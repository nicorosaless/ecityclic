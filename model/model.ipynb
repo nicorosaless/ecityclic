{
 "cells": [
  {
   "cell_type": "code",
   "execution_count": null,
   "metadata": {},
   "outputs": [],
   "source": [
    "import pandas as pd\n",
    "import numpy as np\n",
    "\n",
    "# Read the original CSV file\n",
    "df = pd.read_csv('../../data/accions.csv')"
   ]
  },
  {
   "cell_type": "code",
   "execution_count": null,
   "metadata": {},
   "outputs": [],
   "source": [
    "# Group by 'Sessio' and aggregate the 'Accio' column into a list\n",
    "grouped_df = df.groupby('Sessio').agg({'Accio': list, 'Tramit': list, 'Usuari': list, 'Data': list}).reset_index()\n",
    "\n",
    "\n",
    "# Write the grouped data to a new CSV file\n",
    "grouped_df.to_csv('../../data/grouped_accions.csv', index=False)"
   ]
  },
  {
   "cell_type": "code",
   "execution_count": null,
   "metadata": {},
   "outputs": [],
   "source": [
    "grouped_df['Usuari'] = grouped_df['Usuari'].apply(lambda x: x[-1] if isinstance(x, list) and x else x)"
   ]
  },
  {
   "cell_type": "code",
   "execution_count": null,
   "metadata": {},
   "outputs": [],
   "source": [
    "# Write the grouped data to a new CSV file\n",
    "grouped_df.to_csv('../../data/grouped_accions_usuari.csv', index=False)"
   ]
  },
  {
   "cell_type": "code",
   "execution_count": null,
   "metadata": {},
   "outputs": [],
   "source": [
    "# grouped_df = pd.read_csv('../../data/grouped_accions_usuari.csv')\n",
    "(grouped_df['Tramit'].apply(lambda x: len((x))) == 1).sum()"
   ]
  },
  {
   "cell_type": "code",
   "execution_count": null,
   "metadata": {},
   "outputs": [],
   "source": [
    "filtered_df = grouped_df[~((grouped_df['Usuari'].isna()) & (grouped_df['Tramit'].apply(lambda x: len((x))) == 1))]"
   ]
  },
  {
   "cell_type": "code",
   "execution_count": null,
   "metadata": {},
   "outputs": [],
   "source": [
    "# Write the grouped data to a new CSV file\n",
    "filtered_df.to_csv('../../data/grouped_accions_filtered.csv', index=False)"
   ]
  },
  {
   "cell_type": "code",
   "execution_count": null,
   "metadata": {},
   "outputs": [],
   "source": [
    "filtered_df = pd.read_csv('../../data/grouped_accions_filtered.csv')"
   ]
  },
  {
   "cell_type": "code",
   "execution_count": null,
   "metadata": {},
   "outputs": [],
   "source": [
    "final_df = filtered_df[~(filtered_df['Tramit'].apply(lambda x: len(eval(x))) == 1)]"
   ]
  },
  {
   "cell_type": "code",
   "execution_count": null,
   "metadata": {},
   "outputs": [],
   "source": [
    "final_df = final_df.drop(columns=['Usuari', 'Accio', 'Data', 'Sessio'])"
   ]
  },
  {
   "cell_type": "code",
   "execution_count": null,
   "metadata": {},
   "outputs": [],
   "source": [
    "final_df.to_csv('../../data/grouped_accions_final.csv', index=False)"
   ]
  },
  {
   "cell_type": "code",
   "execution_count": null,
   "metadata": {},
   "outputs": [],
   "source": [
    "final_df = pd.read_csv('../../data/grouped_accions_final.csv')\n",
    "\n",
    "#### \n"
   ]
  },
  {
   "cell_type": "code",
   "execution_count": null,
   "metadata": {},
   "outputs": [],
   "source": [
    "final_df['Last_Tramit'] = final_df['Tramit'].apply(lambda x: eval(x)[-1] if isinstance(eval(x), list) and eval(x) else x)"
   ]
  },
  {
   "cell_type": "code",
   "execution_count": null,
   "metadata": {},
   "outputs": [],
   "source": [
    "final_df['Tramit'] = final_df['Tramit'].apply(lambda x: str(eval(x)[:-1]) if isinstance(eval(x), list) and eval(x) else x)"
   ]
  },
  {
   "cell_type": "code",
   "execution_count": null,
   "metadata": {},
   "outputs": [],
   "source": [
    "final_df.to_csv('../../data/final_dataset.csv', index=False)"
   ]
  },
  {
   "cell_type": "code",
   "execution_count": null,
   "metadata": {},
   "outputs": [],
   "source": [
    "train_final_df = pd.read_csv('../../data/final_dataset.csv')"
   ]
  },
  {
   "cell_type": "code",
   "execution_count": null,
   "metadata": {},
   "outputs": [],
   "source": [
    "X_train = train_final_df['Tramit']\n",
    "y_train = train_final_df['Last_Tramit']\n",
    "\n"
   ]
  },
  {
   "cell_type": "code",
   "execution_count": null,
   "metadata": {},
   "outputs": [],
   "source": [
    "# Crear un dataset de muestra con 50 filas\n",
    "sample_df = train_final_df.sample(n=50, random_state=42)\n",
    "\n",
    "# Guardar el dataset de muestra en el directorio\n",
    "sample_df.to_csv('../../data/sample_train_final_df.csv', index=False)\n"
   ]
  },
  {
   "cell_type": "code",
   "execution_count": null,
   "metadata": {},
   "outputs": [],
   "source": [
    "# Import the sample_tramits.csv file\n",
    "sample_tramits_df = pd.read_csv('../../data/sample_tramits.csv')\n",
    "\n",
    "# Erase the 'Vigent' column\n",
    "sample_tramits_df = sample_tramits_df.drop(columns=['Vigent'])\n",
    "\n",
    "# Display the first few rows of the dataframe to verify\n",
    "print(sample_tramits_df.head())\n",
    "\n",
    "sample_tramits_df.to_csv('../../data/sample_tramits_df.csv', index=False)"
   ]
  },
  {
   "cell_type": "code",
   "execution_count": null,
   "metadata": {},
   "outputs": [],
   "source": [
    "\n",
    "tramits_df = pd.read_csv('../../data/tramits.csv')\n",
    "\n",
    "\n",
    "tramits_df['Sequence'] = range(502)\n",
    "\n",
    "\n",
    "tramits_df.to_csv('../../data/tramits.csv', index=False)"
   ]
  },
  {
   "cell_type": "code",
   "execution_count": null,
   "metadata": {},
   "outputs": [],
   "source": [
    "id_to_sequence = dict(zip(tramits_df['Id'], tramits_df['Sequence']))\n",
    "\n",
    "final_df['Tramit'] = final_df['Tramit'].apply(lambda x: [id_to_sequence.get(tramit, tramit) for tramit in eval(x)])\n",
    "final_df['Last_Tramit'] = final_df['Last_Tramit'].apply(lambda x: id_to_sequence.get(x, x))\n",
    "\n",
    "final_df.to_csv('../../data/final_dataset_mapped.csv', index=False)\n",
    "\n"
   ]
  },
  {
   "cell_type": "code",
   "execution_count": null,
   "metadata": {},
   "outputs": [],
   "source": [
    "\n",
    "final_df = pd.read_csv('../../data/final_dataset_mapped.csv')\n",
    "final_df = final_df[final_df['Tramit'].apply(len) <= 30]\n",
    "\n"
   ]
  },
  {
   "cell_type": "code",
   "execution_count": null,
   "metadata": {},
   "outputs": [],
   "source": [
    "print(\"Distribución de y_train:\", pd.Series(y_train).value_counts())\n",
    "\n",
    "print(\"Distribución del 82 en y_train:\", (y_train == 314).sum())\n"
   ]
  },
  {
   "cell_type": "code",
   "execution_count": null,
   "metadata": {},
   "outputs": [],
   "source": [
    "import tensorflow as tf\n",
    "from tensorflow.keras.layers import Input, Embedding, Dense, LayerNormalization, Dropout\n",
    "from tensorflow.keras.models import Model\n",
    "from sklearn.model_selection import train_test_split  # Para dividir datos en train/test\n",
    "import numpy as np\n",
    "import pandas as pd\n",
    "import ast  # Para usar literal_eval y evitar eval()\n",
    "import time  # Para medir el tiempo de entrenamiento\n",
    "\n",
    "# ------------------ Parámetros del Modelo ------------------\n",
    "max_seq_len = 20  # Longitud máxima de la secuencia de trámites\n",
    "vocab_size = 502  # Cantidad total de trámites posibles (codificados)\n",
    "embed_dim = 64  # Dimensión del embedding\n",
    "num_heads = 2  # Cantidad de cabezas de atención\n",
    "ff_dim = 128  # Dimensión de la red Feed-Forward en el Transformer\n",
    "num_transformer_blocks = 2  # Número de bloques de Transformer\n",
    "dropout_rate = 0.1  # Tasa de dropout\n",
    "\n",
    "# ------------------ Carga y Procesamiento del archivo CSV ------------------\n",
    "# Leer los datos de training.csv\n",
    "file_path = \"../../data/final_dataset_mapped.csv\"  # Cambia esta ruta si el CSV está en otra ubicación\n",
    "data = pd.read_csv(file_path)\n",
    "\n",
    "# Procesar columna 'Tramit'\n",
    "# Convertimos las cadenas tipo lista a listas reales de Python\n",
    "data['Tramit'] = data['Tramit'].apply(lambda x: ast.literal_eval(x))\n",
    "\n",
    "# Validar que los datos no están vacíos\n",
    "if data.isnull().values.any():\n",
    "    raise ValueError(\"El archivo CSV contiene valores nulos, revisa tu archivo.\")\n",
    "\n",
    "# Asegurarnos de que las etiquetas están en formato entero\n",
    "data['Last_Tramit'] = data['Last_Tramit'].astype(int)\n",
    "\n",
    "# Extraer las columnas procesadas\n",
    "X_raw = data['Tramit'].tolist()  # Lista de listas de trámites para X_data\n",
    "y_data = data['Last_Tramit'].values  # Etiquetas para y_data\n",
    "\n",
    "# Padding para X_data (ajustamos las listas a max_seq_len)\n",
    "from tensorflow.keras.preprocessing.sequence import pad_sequences\n",
    "X_data = pad_sequences(X_raw, maxlen=max_seq_len, padding='post', truncating='post')\n",
    "\n",
    "# Dividir los datos en entrenamiento (80%) y prueba (20%)\n",
    "X_train, X_test, y_train, y_test = train_test_split(X_data, y_data, test_size=0.2, random_state=42)\n",
    "\n",
    "# ------------------ Construcción del Modelo con Transformer ------------------\n",
    "class TransformerBlock(tf.keras.layers.Layer):\n",
    "    def __init__(self, embed_dim, num_heads, ff_dim, rate=0.1):\n",
    "        super(TransformerBlock, self).__init__()\n",
    "        self.att = tf.keras.layers.MultiHeadAttention(num_heads=num_heads, key_dim=embed_dim)\n",
    "        self.ffn = tf.keras.Sequential(\n",
    "            [Dense(ff_dim, activation=\"relu\"), Dense(embed_dim)]\n",
    "        )\n",
    "        self.layernorm1 = LayerNormalization(epsilon=1e-6)\n",
    "        self.layernorm2 = LayerNormalization(epsilon=1e-6)\n",
    "        self.dropout1 = Dropout(rate)\n",
    "        self.dropout2 = Dropout(rate)\n",
    "\n",
    "    def call(self, inputs, training):\n",
    "        attn_output = self.att(inputs, inputs)\n",
    "        attn_output = self.dropout1(attn_output, training=training)\n",
    "        out1 = self.layernorm1(inputs + attn_output)\n",
    "        ffn_output = self.ffn(out1)\n",
    "        ffn_output = self.dropout2(ffn_output, training=training)\n",
    "        return self.layernorm2(out1 + ffn_output)\n",
    "\n",
    "\n",
    "class TokenAndPositionEmbedding(tf.keras.layers.Layer):\n",
    "    def __init__(self, maxlen, vocab_size, embed_dim):\n",
    "        super(TokenAndPositionEmbedding, self).__init__()\n",
    "        self.token_emb = Embedding(input_dim=vocab_size, output_dim=embed_dim)\n",
    "        self.pos_emb = Embedding(input_dim=maxlen, output_dim=embed_dim)\n",
    "\n",
    "    def call(self, x):\n",
    "        maxlen = tf.shape(x)[-1]\n",
    "        positions = tf.range(start=0, limit=maxlen, delta=1)\n",
    "        positions = self.pos_emb(positions)\n",
    "        x = self.token_emb(x)\n",
    "        return x + positions\n",
    "\n",
    "\n",
    "# Crear el modelo completo\n",
    "def create_model(vocab_size, max_seq_len, embed_dim, num_heads, ff_dim, num_transformer_blocks, dropout_rate):\n",
    "    inputs = Input(shape=(max_seq_len,))\n",
    "    embedding_layer = TokenAndPositionEmbedding(max_seq_len, vocab_size, embed_dim)\n",
    "    x = embedding_layer(inputs)\n",
    "    for _ in range(num_transformer_blocks):\n",
    "        x = TransformerBlock(embed_dim, num_heads, ff_dim, rate=dropout_rate)(x)\n",
    "    x = tf.keras.layers.GlobalAveragePooling1D()(x)\n",
    "    x = Dropout(dropout_rate)(x)\n",
    "    x = Dense(128, activation=\"relu\")(x)\n",
    "    x = Dropout(dropout_rate)(x)\n",
    "    outputs = Dense(vocab_size, activation=\"softmax\")(x)\n",
    "\n",
    "    model = Model(inputs=inputs, outputs=outputs)\n",
    "    return model\n",
    "\n",
    "\n",
    "# Callbacks para detener entrenamiento innecesario\n",
    "from tensorflow.keras.callbacks import EarlyStopping\n",
    "early_stop = EarlyStopping(monitor='val_accuracy', patience=250, restore_best_weights=True)\n",
    "class PrintEpochCallback(tf.keras.callbacks.Callback):\n",
    "    def on_epoch_begin(self, epoch, logs=None):\n",
    "        print(f\"Epoch {epoch + 1} starting...\")\n",
    "\n",
    "# Instanciar el modelo\n",
    "model = create_model(vocab_size, max_seq_len, embed_dim, num_heads, ff_dim, num_transformer_blocks, dropout_rate)\n",
    "\n",
    "# Compilar el modelo\n",
    "model.compile(optimizer=tf.keras.optimizers.Adam(learning_rate=0.001),\n",
    "              loss='sparse_categorical_crossentropy',\n",
    "              metrics=['accuracy'])\n",
    "\n",
    "# Resumen del modelo\n",
    "model.summary()\n",
    "\n",
    "# Medir el tiempo de entrenamiento\n",
    "start_time = time.time()\n",
    "\n",
    "# Entrenar el modelo\n",
    "history = model.fit(\n",
    "    X_train, y_train,\n",
    "    batch_size=32,\n",
    "    epochs=10,  # Epochs ajustados para inicializar el entrenamiento\n",
    "    validation_data=(X_test, y_test),  # Validación con los datos de test explícitos\n",
    "    callbacks=[PrintEpochCallback(), early_stop]  # EarlyStopping configurado\n",
    ")\n",
    "\n",
    "# Calcular el tiempo total de entrenamiento\n",
    "end_time = time.time()\n",
    "training_time = end_time - start_time\n",
    "print(f\"Tiempo de entrenamiento: {training_time} segundos\")\n",
    "\n",
    "# ------------------ Evaluación en el Test Set ------------------\n",
    "test_loss, test_accuracy = model.evaluate(X_test, y_test)\n",
    "print(f\"Loss en Test: {test_loss}\")\n",
    "print(f\"Accuracy en Test: {test_accuracy}\")\n",
    "\n",
    "results = pd.DataFrame([{\"accuracy\": history.history['accuracy'][-1]}])\n",
    "# Agregar una nueva fila con los valores de precisión y pérdida de la prueba\n",
    "epochs = 10  # Define the number of epochs used in training\n",
    "new_row = pd.DataFrame([{\"accuracy\": test_accuracy, \"loss\": test_loss, \"embed_dim\": embed_dim, \"num_heads\": num_heads, \"ff_dim\": ff_dim, \"num_transformer_blocks\": num_transformer_blocks, \"epochs\": epochs, \"training_time\": training_time}])\n",
    "results = pd.concat([results, new_row], ignore_index=True)\n",
    "# Guardar los resultados en un archivo CSV\n",
    "results.to_csv('../../data/results.csv', index=False)\n",
    "\n"
   ]
  },
  {
   "cell_type": "code",
   "execution_count": null,
   "metadata": {},
   "outputs": [],
   "source": [
    "#### LOAD MODEL ####\n",
    "\n",
    "\n",
    "import tensorflow as tf\n",
    "from tensorflow.keras.preprocessing.sequence import pad_sequences\n",
    "import pandas as pd\n",
    "\n",
    "\n",
    "# ------------------ Capas Personalizadas ------------------\n",
    "class TransformerBlock(tf.keras.layers.Layer):\n",
    "    def __init__(self, embed_dim, num_heads, ff_dim, rate=0.1):\n",
    "        super(TransformerBlock, self).__init__()\n",
    "        self.att = tf.keras.layers.MultiHeadAttention(num_heads=num_heads, key_dim=embed_dim)\n",
    "        self.ffn = tf.keras.Sequential([tf.keras.layers.Dense(ff_dim, activation=\"relu\"), tf.keras.layers.Dense(embed_dim)])\n",
    "        self.layernorm1 = tf.keras.layers.LayerNormalization(epsilon=1e-6)\n",
    "        self.layernorm2 = tf.keras.layers.LayerNormalization(epsilon=1e-6)\n",
    "        self.dropout1 = tf.keras.layers.Dropout(rate)\n",
    "        self.dropout2 = tf.keras.layers.Dropout(rate)\n",
    "\n",
    "    def call(self, inputs, training):\n",
    "        attn_output = self.dropout1(self.att(inputs, inputs), training=training)\n",
    "        out1 = self.layernorm1(inputs + attn_output)\n",
    "        ffn_output = self.dropout2(self.ffn(out1), training=training)\n",
    "        return self.layernorm2(out1 + ffn_output)\n",
    "\n",
    "\n",
    "class TokenAndPositionEmbedding(tf.keras.layers.Layer):\n",
    "    def __init__(self, maxlen, vocab_size, embed_dim):\n",
    "        super(TokenAndPositionEmbedding, self).__init__()\n",
    "        self.token_emb = tf.keras.layers.Embedding(input_dim=vocab_size, output_dim=embed_dim)\n",
    "        self.pos_emb = tf.keras.layers.Embedding(input_dim=maxlen, output_dim=embed_dim)\n",
    "\n",
    "    def call(self, x):\n",
    "        positions = self.pos_emb(tf.range(start=0, limit=tf.shape(x)[-1]))\n",
    "        return self.token_emb(x) + positions\n",
    "\n",
    "\n",
    "# ------------------ Modelo Preentrenado ------------------\n",
    "def cargar_modelo(ruta_modelo=\"modelo_transformer_tramites.h5\"):\n",
    "    \"\"\"Carga el modelo Transformer preentrenado.\"\"\"\n",
    "    model = tf.keras.models.load_model(\n",
    "        ruta_modelo,\n",
    "        custom_objects={\n",
    "            'TokenAndPositionEmbedding': TokenAndPositionEmbedding,\n",
    "            'TransformerBlock': TransformerBlock\n",
    "        }\n",
    "    )\n",
    "    return model\n",
    "\n",
    "\n",
    "# ------------------ Función de Predicción ------------------\n",
    "def predecir_tramite(raw_input_sequence, tramits_csv, max_seq_len, model):\n",
    "    \"\"\"\n",
    "    Filtra trámites por 'Vigent=True' y realiza la predicción.\n",
    "    raw_input_sequence: lista de trámites (secuencia de entrada).\n",
    "    tramits_csv: Ruta al archivo tramits.csv.\n",
    "    max_seq_len: Longitud máxima de la secuencia (padding).\n",
    "    model: Modelo cargado con cargar_modelo.\n",
    "    \"\"\"\n",
    "    tramits_df = pd.read_csv(tramits_csv)\n",
    "    vigent_indices = tramits_df[tramits_df['Vigent'] == True].index.tolist()\n",
    "\n",
    "    # Preparar el input\n",
    "    input_sequence = pad_sequences([raw_input_sequence], maxlen=max_seq_len, padding='post', truncating='post')\n",
    "\n",
    "    # Predicción\n",
    "    predictions = model.predict(input_sequence)\n",
    "    filtered_predictions = {idx: predictions[0][idx] for idx in vigent_indices}\n",
    "    sorted_predictions = sorted(filtered_predictions.items(), key=lambda x: x[1], reverse=True)\n",
    "\n",
    "    # Obtener las mejores predicciones\n",
    "    top_10_predictions = sorted_predictions[:10]\n",
    "    recommended_tramit, recommended_prob = top_10_predictions[0]\n",
    "\n",
    "    return recommended_tramit, recommended_prob, top_10_predictions\n"
   ]
  },
  {
   "cell_type": "code",
   "execution_count": null,
   "metadata": {},
   "outputs": [],
   "source": [
    "# Importar herramientas necesarias\n",
    "import pandas as pd\n",
    "# Cargar el modelo preentrenado\n",
    "model = cargar_modelo(\"modelo_transformer_tramites.h5\")\n",
    "\n",
    "# Realizar una predicción\n",
    "raw_input_sequence = [80, 80, 80, 80, 80, 80, 80, 80]  # Entrada ejemplo\n",
    "tramits_csv = \"../../data/tramits.csv\"  # Ruta al archivo tramits.csv\n",
    "max_seq_len = 20  # Longitud máxima de secuencias\n",
    "\n",
    "# Realizar la predicción \n",
    "recommended_tramit, recommended_prob, top_10_predictions = predecir_tramite(\n",
    "    raw_input_sequence, tramits_csv, max_seq_len, model\n",
    ")\n",
    "\n",
    "# Ver resultados\n",
    "print(f\"Trámite recomendado: {recommended_tramit}, Probabilidad: {recommended_prob}\")\n",
    "print(\"\\nTop 10 predicciones:\")\n",
    "for idx, prob in top_10_predictions:\n",
    "    print(f\"Trámite: {idx}, Probabilidad: {prob}\")\n"
   ]
  },
  {
   "cell_type": "code",
   "execution_count": null,
   "metadata": {},
   "outputs": [],
   "source": [
    "import matplotlib.pyplot as plt\n",
    "\n",
    "plt.plot(history.history['loss'], label='Entrenamiento')\n",
    "plt.plot(history.history['val_loss'], label='Validación')\n",
    "plt.legend()\n",
    "plt.show()\n"
   ]
  }
 ],
 "metadata": {
  "kernelspec": {
   "display_name": "Python 3",
   "language": "python",
   "name": "python3"
  },
  "language_info": {
   "codemirror_mode": {
    "name": "ipython",
    "version": 3
   },
   "file_extension": ".py",
   "mimetype": "text/x-python",
   "name": "python",
   "nbconvert_exporter": "python",
   "pygments_lexer": "ipython3",
   "version": "3.10.11"
  }
 },
 "nbformat": 4,
 "nbformat_minor": 2
}
