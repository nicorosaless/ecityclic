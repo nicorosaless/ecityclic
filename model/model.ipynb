{
 "cells": [
  {
   "cell_type": "code",
   "execution_count": null,
   "metadata": {},
   "outputs": [],
   "source": [
    "import pandas as pd\n",
    "import numpy as np\n",
    "\n",
    "# Read the original CSV file\n",
    "df = pd.read_csv('../../data/accions.csv')"
   ]
  },
  {
   "cell_type": "code",
   "execution_count": null,
   "metadata": {},
   "outputs": [],
   "source": [
    "# Group by 'Sessio' and aggregate the 'Accio' column into a list\n",
    "grouped_df = df.groupby('Sessio').agg({'Accio': list, 'Tramit': list, 'Usuari': list, 'Data': list}).reset_index()\n",
    "\n",
    "\n",
    "# Write the grouped data to a new CSV file\n",
    "grouped_df.to_csv('../../data/grouped_accions.csv', index=False)"
   ]
  },
  {
   "cell_type": "code",
   "execution_count": null,
   "metadata": {},
   "outputs": [],
   "source": [
    "grouped_df['Usuari'] = grouped_df['Usuari'].apply(lambda x: x[-1] if isinstance(x, list) and x else x)"
   ]
  },
  {
   "cell_type": "code",
   "execution_count": null,
   "metadata": {},
   "outputs": [],
   "source": [
    "# Write the grouped data to a new CSV file\n",
    "grouped_df.to_csv('../../data/grouped_accions_usuari.csv', index=False)"
   ]
  },
  {
   "cell_type": "code",
   "execution_count": null,
   "metadata": {},
   "outputs": [],
   "source": [
    "# grouped_df = pd.read_csv('../../data/grouped_accions_usuari.csv')\n",
    "(grouped_df['Tramit'].apply(lambda x: len((x))) == 1).sum()"
   ]
  },
  {
   "cell_type": "code",
   "execution_count": null,
   "metadata": {},
   "outputs": [],
   "source": [
    "filtered_df = grouped_df[~((grouped_df['Usuari'].isna()) & (grouped_df['Tramit'].apply(lambda x: len((x))) == 1))]"
   ]
  },
  {
   "cell_type": "code",
   "execution_count": null,
   "metadata": {},
   "outputs": [],
   "source": [
    "# Write the grouped data to a new CSV file\n",
    "filtered_df.to_csv('../../data/grouped_accions_filtered.csv', index=False)"
   ]
  },
  {
   "cell_type": "code",
   "execution_count": null,
   "metadata": {},
   "outputs": [],
   "source": [
    "filtered_df = pd.read_csv('../../data/grouped_accions_filtered.csv')"
   ]
  },
  {
   "cell_type": "code",
   "execution_count": null,
   "metadata": {},
   "outputs": [],
   "source": [
    "final_df = filtered_df[~(filtered_df['Tramit'].apply(lambda x: len(eval(x))) == 1)]"
   ]
  },
  {
   "cell_type": "code",
   "execution_count": null,
   "metadata": {},
   "outputs": [],
   "source": [
    "final_df = final_df.drop(columns=['Usuari', 'Accio', 'Data', 'Sessio'])"
   ]
  },
  {
   "cell_type": "code",
   "execution_count": null,
   "metadata": {},
   "outputs": [],
   "source": [
    "final_df.to_csv('../../data/grouped_accions_final.csv', index=False)"
   ]
  },
  {
   "cell_type": "code",
   "execution_count": null,
   "metadata": {},
   "outputs": [],
   "source": [
    "final_df = pd.read_csv('../../data/grouped_accions_final.csv')\n",
    "\n",
    "#### \n"
   ]
  },
  {
   "cell_type": "code",
   "execution_count": null,
   "metadata": {},
   "outputs": [],
   "source": [
    "final_df['Last_Tramit'] = final_df['Tramit'].apply(lambda x: eval(x)[-1] if isinstance(eval(x), list) and eval(x) else x)"
   ]
  },
  {
   "cell_type": "code",
   "execution_count": null,
   "metadata": {},
   "outputs": [],
   "source": [
    "final_df['Tramit'] = final_df['Tramit'].apply(lambda x: str(eval(x)[:-1]) if isinstance(eval(x), list) and eval(x) else x)"
   ]
  },
  {
   "cell_type": "code",
   "execution_count": null,
   "metadata": {},
   "outputs": [],
   "source": [
    "final_df.to_csv('../../data/final_dataset.csv', index=False)"
   ]
  },
  {
   "cell_type": "code",
   "execution_count": null,
   "metadata": {},
   "outputs": [],
   "source": [
    "train_final_df = pd.read_csv('../../data/final_dataset.csv')"
   ]
  },
  {
   "cell_type": "code",
   "execution_count": null,
   "metadata": {},
   "outputs": [],
   "source": [
    "X_train = train_final_df['Tramit']\n",
    "y_train = train_final_df['Last_Tramit']\n",
    "\n"
   ]
  },
  {
   "cell_type": "code",
   "execution_count": null,
   "metadata": {},
   "outputs": [],
   "source": [
    "# Crear un dataset de muestra con 50 filas\n",
    "sample_df = train_final_df.sample(n=50, random_state=42)\n",
    "\n",
    "# Guardar el dataset de muestra en el directorio\n",
    "sample_df.to_csv('../../data/sample_train_final_df.csv', index=False)\n"
   ]
  },
  {
   "cell_type": "code",
   "execution_count": null,
   "metadata": {},
   "outputs": [],
   "source": [
    "# Import the sample_tramits.csv file\n",
    "sample_tramits_df = pd.read_csv('../../data/sample_tramits.csv')\n",
    "\n",
    "# Erase the 'Vigent' column\n",
    "sample_tramits_df = sample_tramits_df.drop(columns=['Vigent'])\n",
    "\n",
    "# Display the first few rows of the dataframe to verify\n",
    "print(sample_tramits_df.head())\n",
    "\n",
    "sample_tramits_df.to_csv('../../data/sample_tramits_df.csv', index=False)"
   ]
  },
  {
   "cell_type": "code",
   "execution_count": null,
   "metadata": {},
   "outputs": [],
   "source": [
    "\n",
    "tramits_df = pd.read_csv('../../data/tramits.csv')\n",
    "\n",
    "\n",
    "tramits_df['Sequence'] = range(502)\n",
    "\n",
    "\n",
    "tramits_df.to_csv('../../data/tramits.csv', index=False)"
   ]
  },
  {
   "cell_type": "code",
   "execution_count": null,
   "metadata": {},
   "outputs": [],
   "source": [
    "id_to_sequence = dict(zip(tramits_df['Id'], tramits_df['Sequence']))\n",
    "\n",
    "final_df['Tramit'] = final_df['Tramit'].apply(lambda x: [id_to_sequence.get(tramit, tramit) for tramit in eval(x)])\n",
    "final_df['Last_Tramit'] = final_df['Last_Tramit'].apply(lambda x: id_to_sequence.get(x, x))\n",
    "\n",
    "final_df.to_csv('../../data/final_dataset_mapped.csv', index=False)\n",
    "\n"
   ]
  },
  {
   "cell_type": "code",
   "execution_count": null,
   "metadata": {},
   "outputs": [],
   "source": [
    "\n",
    "final_df = pd.read_csv('../../data/final_dataset_mapped.csv')\n",
    "final_df = final_df[final_df['Tramit'].apply(len) <= 30]\n",
    "\n"
   ]
  },
  {
   "cell_type": "code",
   "execution_count": null,
   "metadata": {},
   "outputs": [],
   "source": [
    "final_df['Tramit'].apply(len).max() "
   ]
  },
  {
   "cell_type": "code",
   "execution_count": null,
   "metadata": {},
   "outputs": [],
   "source": [
    "import tensorflow as tf\n",
    "from tensorflow.keras.layers import Input, Embedding, Dense, LayerNormalization, Dropout\n",
    "from tensorflow.keras.models import Model\n",
    "import numpy as np\n",
    "\n",
    "# Parámetros del modelo\n",
    "max_seq_len =  30 # Longitud máxima de la secuencia de trámites\n",
    "vocab_size = 502  # Cantidad total de trámites posibles (codificados)\n",
    "embed_dim = 64  # Dimensión del embedding\n",
    "num_heads = 4  # Cantidad de cabezas de atención\n",
    "ff_dim = 128  # Dimensión de la red Feed-Forward en el Transformer\n",
    "num_transformer_blocks = 2  # Número de bloques de Transformer\n",
    "dropout_rate = 0.1  # Tasa de dropout\n",
    "\n",
    "# Generar datos sintéticos como ejemplo (X_train es la secuencia, y_train es el trámite objetivo)\n",
    "# Puedes reemplazar esto con tus datos reales\n",
    "num_samples = 5000\n",
    "X_train = np.random.randint(1, vocab_size, size=(num_samples, max_seq_len))\n",
    "y_train = np.random.randint(1, vocab_size, size=(num_samples,))\n",
    "\n",
    "# --------------- Construcción del Modelo con Transformer -------------------\n",
    "\n",
    "class TransformerBlock(tf.keras.layers.Layer):\n",
    "    def __init__(self, embed_dim, num_heads, ff_dim, rate=0.1):\n",
    "        super(TransformerBlock, self).__init__()\n",
    "        self.att = tf.keras.layers.MultiHeadAttention(num_heads=num_heads, key_dim=embed_dim)\n",
    "        self.ffn = tf.keras.Sequential(\n",
    "            [Dense(ff_dim, activation=\"relu\"), Dense(embed_dim)]\n",
    "        )\n",
    "        self.layernorm1 = LayerNormalization(epsilon=1e-6)\n",
    "        self.layernorm2 = LayerNormalization(epsilon=1e-6)\n",
    "        self.dropout1 = Dropout(rate)\n",
    "        self.dropout2 = Dropout(rate)\n",
    "\n",
    "    def call(self, inputs, training):\n",
    "        attn_output = self.att(inputs, inputs)\n",
    "        attn_output = self.dropout1(attn_output, training=training)\n",
    "        out1 = self.layernorm1(inputs + attn_output)\n",
    "        ffn_output = self.ffn(out1)\n",
    "        ffn_output = self.dropout2(ffn_output, training=training)\n",
    "        return self.layernorm2(out1 + ffn_output)\n",
    "\n",
    "\n",
    "class TokenAndPositionEmbedding(tf.keras.layers.Layer):\n",
    "    def __init__(self, maxlen, vocab_size, embed_dim):\n",
    "        super(TokenAndPositionEmbedding, self).__init__()\n",
    "        self.token_emb = Embedding(input_dim=vocab_size, output_dim=embed_dim)\n",
    "        self.pos_emb = Embedding(input_dim=maxlen, output_dim=embed_dim)\n",
    "\n",
    "    def call(self, x):\n",
    "        maxlen = tf.shape(x)[-1]\n",
    "        positions = tf.range(start=0, limit=maxlen, delta=1)\n",
    "        positions = self.pos_emb(positions)\n",
    "        x = self.token_emb(x)\n",
    "        return x + positions\n",
    "\n",
    "\n",
    "# Crear el modelo completo\n",
    "def create_model(vocab_size, max_seq_len, embed_dim, num_heads, ff_dim, num_transformer_blocks, dropout_rate):\n",
    "    inputs = Input(shape=(max_seq_len,))\n",
    "    embedding_layer = TokenAndPositionEmbedding(max_seq_len, vocab_size, embed_dim)\n",
    "    x = embedding_layer(inputs)\n",
    "    for _ in range(num_transformer_blocks):\n",
    "        x = TransformerBlock(embed_dim, num_heads, ff_dim, rate=dropout_rate)(x)\n",
    "    x = tf.keras.layers.GlobalAveragePooling1D()(x)\n",
    "    x = Dropout(dropout_rate)(x)\n",
    "    x = Dense(128, activation=\"relu\")(x)\n",
    "    x = Dropout(dropout_rate)(x)\n",
    "    outputs = Dense(vocab_size, activation=\"softmax\")(x)\n",
    "\n",
    "    model = Model(inputs=inputs, outputs=outputs)\n",
    "    return model\n",
    "\n",
    "\n",
    "# Custom callback to print the epoch number\n",
    "class PrintEpochCallback(tf.keras.callbacks.Callback):\n",
    "    def on_epoch_begin(self, epoch, logs=None):\n",
    "        print(f\"Epoch {epoch + 1} starting...\")\n",
    "\n",
    "# Instanciar el modelo\n",
    "model = create_model(vocab_size, max_seq_len, embed_dim, num_heads, ff_dim, num_transformer_blocks, dropout_rate)\n",
    "\n",
    "# Compilar el modelo\n",
    "model.compile(optimizer=tf.keras.optimizers.Adam(learning_rate=0.001),\n",
    "              loss='sparse_categorical_crossentropy',\n",
    "              metrics=['accuracy'])\n",
    "\n",
    "# Resumen del modelo\n",
    "model.summary()\n",
    "\n",
    "# Entrenar el modelo\n",
    "history = model.fit(X_train, y_train, batch_size=32, epochs=100, validation_split=0.2, callbacks=[PrintEpochCallback()])\n"
   ]
  },
  {
   "cell_type": "code",
   "execution_count": null,
   "metadata": {},
   "outputs": [],
   "source": [
    "# --------------------- Realizar predicciones ----------------------\n",
    "# Ejemplo de predicción para una nueva secuencia\n",
    "new_sequence = np.random.randint(1, vocab_size, (1, max_seq_len))\n",
    "predictions = model.predict(new_sequence)\n",
    "\n",
    "# Salida: array de probabilidades para cada posible trámite\n",
    "print(\"Predicciones:\", predictions)\n",
    "recommended_tramit_index = np.argmax(predictions)\n",
    "print(\"Trámite recomendado:\", recommended_tramit_index)\n",
    "print(\"Probabilidad del trámite recomendado:\", predictions[0][recommended_tramit_index])"
   ]
  },
  {
   "cell_type": "code",
   "execution_count": null,
   "metadata": {},
   "outputs": [],
   "source": [
    "model_name = \"modelo_transformer_tramites.h5\"\n",
    "model.save(model_name)\n",
    "print(f\"Modelo guardado como {model_name}\")"
   ]
  },
  {
   "cell_type": "code",
   "execution_count": null,
   "metadata": {},
   "outputs": [],
   "source": [
    "from tensorflow.keras.models import load_model\n",
    "\n",
    "# Cargar el modelo guardado\n",
    "loaded_model = load_model(\"modelo_transformer_tramites.h5\")\n",
    "print(\"Modelo cargado correctamente.\")\n",
    "\n",
    "# Usar el modelo cargado para predicciones\n",
    "new_sequence = np.random.randint(1, vocab_size, (1, max_seq_len))\n",
    "predictions = loaded_model.predict(new_sequence)\n",
    "\n",
    "print(\"Predicciones del modelo cargado:\", predictions)\n"
   ]
  }
 ],
 "metadata": {
  "kernelspec": {
   "display_name": "Python 3",
   "language": "python",
   "name": "python3"
  },
  "language_info": {
   "codemirror_mode": {
    "name": "ipython",
    "version": 3
   },
   "file_extension": ".py",
   "mimetype": "text/x-python",
   "name": "python",
   "nbconvert_exporter": "python",
   "pygments_lexer": "ipython3",
   "version": "3.10.11"
  }
 },
 "nbformat": 4,
 "nbformat_minor": 2
}
